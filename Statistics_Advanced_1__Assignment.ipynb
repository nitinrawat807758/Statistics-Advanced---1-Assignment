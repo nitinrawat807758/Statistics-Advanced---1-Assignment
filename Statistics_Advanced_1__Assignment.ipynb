{
  "nbformat": 4,
  "nbformat_minor": 0,
  "metadata": {
    "colab": {
      "provenance": []
    },
    "kernelspec": {
      "name": "python3",
      "display_name": "Python 3"
    },
    "language_info": {
      "name": "python"
    }
  },
  "cells": [
    {
      "cell_type": "markdown",
      "source": [
        "#Statistics Advanced - 1| Assignment\n"
      ],
      "metadata": {
        "id": "sw1GIku071Wd"
      }
    },
    {
      "cell_type": "markdown",
      "source": [
        "Question 1: What is a random variable in probability theory?\n",
        "\n",
        "  * A random variable is a variable whose possible values are outcomes of a random phenomenon. It assigns a numerical value to each possible outcome in a sample space. Random variables are fundamental in probability theory and statistics as they help quantify outcomes and analyze data."
      ],
      "metadata": {
        "id": "Y1VbaWty71P1"
      }
    },
    {
      "cell_type": "markdown",
      "source": [
        "Question 2: What are the types of random variables?\n",
        "\n",
        "  * There are two main types of random variables:\n",
        "\n",
        "    * Discrete Random Variables – Take on countable values (e.g., number of heads in coin tosses).\n",
        "\n",
        "    * Continuous Random Variables – Take on an infinite number of possible values within a range (e.g., height, weight).\n",
        "\n",
        ""
      ],
      "metadata": {
        "id": "CWkh8V9s7zif"
      }
    },
    {
      "cell_type": "markdown",
      "source": [
        "Question 3: Explain the difference between discrete and continuous distributions.\n",
        "\n",
        "    * Discrete distributions describe the probability of outcomes of discrete random variables. Example: Binomial distribution.\n",
        "    \n",
        "    * Continuous distributions describe the probability of outcomes of continuous random variables using probability density functions. Example: Normal distribution.\n",
        "\n",
        "\n",
        "\n",
        "\n"
      ],
      "metadata": {
        "id": "WWa5w-9v9-aP"
      }
    },
    {
      "cell_type": "markdown",
      "source": [
        "Question 4: What is a binomial distribution, and how is it used in probability?\n",
        "\n",
        "  * A binomial distribution represents the number of successes in a fixed number of independent Bernoulli trials with the same probability of success. It is used in situations where there are two possible outcomes, like success/failure, yes/no. Example: Tossing a coin multiple times.\n",
        "\n"
      ],
      "metadata": {
        "id": "1KU7tizR-fKm"
      }
    },
    {
      "cell_type": "markdown",
      "source": [
        "Question 5: What is the standard normal distribution, and why is it important?\n",
        "\n",
        "* The standard normal distribution is a normal distribution with a mean of 0 and a standard deviation of 1. It's important because:\n",
        "\n",
        "    * It serves as a reference for calculating probabilities and z-scores.\n",
        "\n",
        "    * It simplifies statistical analysis through standardization."
      ],
      "metadata": {
        "id": "jSW5wKRH-dhX"
      }
    },
    {
      "cell_type": "markdown",
      "source": [
        "Question 6: What is the Central Limit Theorem (CLT), and why is it critical in statistics?\n",
        "\n",
        "  * The CLT states that the sampling distribution of the sample mean approaches a normal distribution as the sample size becomes large, regardless of the population's distribution. It's critical because it allows the use of normal distribution for inference even when the data isn't normally distributed.\n",
        "\n"
      ],
      "metadata": {
        "id": "ZrgF5pQa-6Mp"
      }
    },
    {
      "cell_type": "markdown",
      "source": [
        "Question 7: What is the significance of confidence intervals in statistical analysis?\n",
        "\n",
        "* Confidence intervals provide a range of values within which we expect the true population parameter to lie with a certain level of confidence (e.g., 95%). They help quantify the uncertainty in estimation and are crucial for decision-making based on sample data.\n",
        "\n"
      ],
      "metadata": {
        "id": "P1-HPBS0_Wce"
      }
    },
    {
      "cell_type": "markdown",
      "source": [
        "Question 8: What is the concept of expected value in a probability distribution?\n",
        "\n",
        "* The expected value is the weighted average of all possible values of a random variable, where each value is weighted by its probability. It represents the long-run average outcome. Formula:\n",
        "\n",
        "𝐸\n",
        "(\n",
        "𝑋\n",
        ")\n",
        "=\n",
        "∑\n",
        "[\n",
        "𝑥\n",
        "𝑖\n",
        "⋅\n",
        "𝑃\n",
        "(\n",
        "𝑥\n",
        "𝑖\n",
        ")\n",
        "]\n",
        "E(X)=∑[x\n",
        "i\n",
        "​\n",
        " ⋅P(x\n",
        "i\n",
        "​\n",
        " )]"
      ],
      "metadata": {
        "id": "WUjqYQr0_dBU"
      }
    },
    {
      "cell_type": "markdown",
      "source": [
        "Question 9: Python Program\n",
        "\n",
        "\n",
        "* import numpy as np\n",
        "import matplotlib.pyplot as plt\n",
        "\n",
        "# Generate 1000 random numbers from normal distribution\n",
        "data = np.random.normal(loc=50, scale=5, size=1000)\n",
        "\n",
        "# Calculate mean and standard deviation\n",
        "mean = np.mean(data)\n",
        "std_dev = np.std(data)\n",
        "\n",
        "print(\"Mean:\", mean)\n",
        "print(\"Standard Deviation:\", std_dev)\n",
        "\n",
        "# Plot histogram\n",
        "plt.hist(data, bins=30, color='skyblue', edgecolor='black')\n",
        "plt.title('Histogram of Normally Distributed Data')\n",
        "plt.xlabel('Value')\n",
        "plt.ylabel('Frequency')\n",
        "plt.grid(True)\n",
        "plt.show()\n",
        "\n",
        "  * Sample Output:\n",
        "\n",
        "Mean: 49.92\n",
        "Standard Deviation: 4.97\n",
        "\n"
      ],
      "metadata": {
        "id": "CRsDSCZ6-uwO"
      }
    },
    {
      "cell_type": "markdown",
      "source": [
        "Question 10: Central Limit Theorem and Sales Trend\n",
        "\n",
        "* To apply the Central Limit Theorem:\n",
        " * Use the sample of daily sales to estimate the population mean.\n",
        "  * Compute the 95% confidence interval using sample mean and standard error.\n",
        "\n",
        "import numpy as np\n",
        "import scipy.stats as stats\n",
        "\n",
        "# Daily sales data\n",
        "daily_sales = [220, 245, 210, 265, 230, 250, 260, 275, 240, 255,\n",
        "               235, 260, 245, 250, 225, 270, 265, 255, 250, 260]\n",
        "\n",
        "# Calculate mean and standard error\n",
        "mean_sales = np.mean(daily_sales)\n",
        "std_error = stats.sem(daily_sales)\n",
        "\n",
        "# 95% confidence interval\n",
        "confidence = 0.95\n",
        "margin_of_error = stats.t.ppf((1 + confidence) / 2, df=len(daily_sales)-1) * std_error\n",
        "ci_lower = mean_sales - margin_of_error\n",
        "ci_upper = mean_sales + margin_of_error\n",
        "\n",
        "print(f\"Mean Sales: {mean_sales}\")\n",
        "print(f\"95% Confidence Interval: ({ci_lower}, {ci_upper})\")\n",
        "\n",
        "\n",
        "\n"
      ],
      "metadata": {
        "id": "R_gKMgAMAROd"
      }
    },
    {
      "cell_type": "markdown",
      "source": [],
      "metadata": {
        "id": "IMqWfaYsAkFq"
      }
    },
    {
      "cell_type": "markdown",
      "source": [
        ":"
      ],
      "metadata": {
        "id": "HjdPhkAf97rA"
      }
    }
  ]
}